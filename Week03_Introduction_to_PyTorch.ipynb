{
  "nbformat": 4,
  "nbformat_minor": 0,
  "metadata": {
    "colab": {
      "provenance": [],
      "toc_visible": true,
      "include_colab_link": true
    },
    "kernelspec": {
      "name": "python3",
      "display_name": "Python 3"
    },
    "language_info": {
      "name": "python"
    }
  },
  "cells": [
    {
      "cell_type": "markdown",
      "metadata": {
        "id": "view-in-github",
        "colab_type": "text"
      },
      "source": [
        "<a href=\"https://colab.research.google.com/github/yuhannien/historical_weather/blob/main/Week03_Introduction_to_PyTorch.ipynb\" target=\"_parent\"><img src=\"https://colab.research.google.com/assets/colab-badge.svg\" alt=\"Open In Colab\"/></a>"
      ]
    },
    {
      "cell_type": "markdown",
      "metadata": {
        "id": "lp3-fTEk3CXr"
      },
      "source": [
        "# Introduction to PyTorch\n",
        "\n",
        "Welcome to the AI Robotics Lab course! In this course, we'll be using PyTorch to implement deep neural networks. This notebook will introduce you to the basic functions of PyTorch, helping you become familiar with this powerful library.\n",
        "\n",
        "*Note: If you're not familiar with basic Python programming, you may want to go through some other tutorials first, such as the one found at:*\n",
        "\n",
        "https://colab.research.google.com/github/cs231n/cs231n.github.io/blob/master/python-colab.ipynb\n"
      ]
    },
    {
      "cell_type": "markdown",
      "metadata": {
        "id": "TXeweKspo2c2"
      },
      "source": [
        "## Import PyTorch\n",
        "To begin, we need to import the PyTorch library."
      ]
    },
    {
      "cell_type": "code",
      "metadata": {
        "id": "2iNt9kVFhkVq"
      },
      "source": [
        "import torch"
      ],
      "execution_count": null,
      "outputs": []
    },
    {
      "cell_type": "markdown",
      "source": [
        "Let's check the version of PyTorch we're using:"
      ],
      "metadata": {
        "id": "PKLYJj1n7IgF"
      }
    },
    {
      "cell_type": "code",
      "source": [
        "torch.__version__"
      ],
      "metadata": {
        "id": "3UKq6LFX7N0N"
      },
      "execution_count": null,
      "outputs": []
    },
    {
      "cell_type": "markdown",
      "metadata": {
        "id": "amh_RRDe5YCu"
      },
      "source": [
        "## torch.tensor\n",
        "\n",
        "PyTorch uses the `torch.tensor` data type to handle multi-dimensional array data. You can create a `torch.tensor` object by simply passing a Python `list` to the `torch.tensor()` function."
      ]
    },
    {
      "cell_type": "code",
      "metadata": {
        "id": "tCi4UpU6iaEQ"
      },
      "source": [
        "a = [1, 2, 3]      # Create a list variable named \"a\"\n",
        "\n",
        "print(a)           # Display \"a\"\n",
        "print(type(a))     # Show the data type of \"a\""
      ],
      "execution_count": null,
      "outputs": []
    },
    {
      "cell_type": "markdown",
      "source": [
        "Now, let's convert this list to a PyTorch tensor:"
      ],
      "metadata": {
        "id": "GkNMIL7URr7X"
      }
    },
    {
      "cell_type": "code",
      "metadata": {
        "id": "dwRCeeZL6ZPt"
      },
      "source": [
        "a = torch.tensor(a)     # Convert list \"a\" to torch.tensor \"a\"\n",
        "\n",
        "print(a)\n",
        "print(type(a))"
      ],
      "execution_count": null,
      "outputs": []
    },
    {
      "cell_type": "markdown",
      "metadata": {
        "id": "FclCLLUg6iZq"
      },
      "source": [
        "You can also create a `torch.tensor` from a `numpy.ndarray`:"
      ]
    },
    {
      "cell_type": "code",
      "metadata": {
        "id": "OY_t_qCkgLFR"
      },
      "source": [
        "import numpy as np               # Import NumPy package, \"np\" is the conventional abbreviation\n",
        "\n",
        "b = np.array([0.4, 0.5, 0.6])    # Create a np.ndarray named \"b\"\n",
        "b = torch.tensor(b)              # Convert np.ndarray \"b\" to torch.tensor \"b\"\n",
        "\n",
        "print(b)\n",
        "print(type(b))"
      ],
      "execution_count": null,
      "outputs": []
    },
    {
      "cell_type": "markdown",
      "metadata": {
        "id": "IScSA6AF88v6"
      },
      "source": [
        "Converting a `torch.tensor` back to a `numpy.ndarray` is just as easy:"
      ]
    },
    {
      "cell_type": "code",
      "metadata": {
        "id": "OOrCjtoa88MJ"
      },
      "source": [
        "c = b.numpy()        # Convert torch.tensor \"b\" to np.ndarray \"c\"\n",
        "\n",
        "print(c)\n",
        "print(type(c))"
      ],
      "execution_count": null,
      "outputs": []
    },
    {
      "cell_type": "markdown",
      "metadata": {
        "id": "GanF3Gg0CJ_J"
      },
      "source": [
        "To determine the shape of a `torch.tensor`, you can use either the `.shape` attribute or the `.size()` method. Both return the same result:"
      ]
    },
    {
      "cell_type": "code",
      "metadata": {
        "id": "WwgqCsOkCSbK"
      },
      "source": [
        "a = torch.tensor([1, 2, 3])\n",
        "print(a.shape)\n",
        "print(a.size())"
      ],
      "execution_count": null,
      "outputs": []
    },
    {
      "cell_type": "markdown",
      "source": [
        "You can also create a 0-dimensional `torch.tensor` by passing a single number:"
      ],
      "metadata": {
        "id": "lPuicsIEMDia"
      }
    },
    {
      "cell_type": "code",
      "source": [
        "a = torch.tensor(10)\n",
        "print(a)\n",
        "print(a.shape)"
      ],
      "metadata": {
        "id": "Z_hT8K3QLz6X"
      },
      "execution_count": null,
      "outputs": []
    },
    {
      "cell_type": "markdown",
      "source": [
        "To extract the number from a 0-dimensional `torch.tensor`, use the `.item()` method:"
      ],
      "metadata": {
        "id": "mEoKBksZMSKD"
      }
    },
    {
      "cell_type": "code",
      "source": [
        "a.item()"
      ],
      "metadata": {
        "id": "27ZR_5D5MlG9"
      },
      "execution_count": null,
      "outputs": []
    },
    {
      "cell_type": "markdown",
      "metadata": {
        "id": "2QWTZQTy76Av"
      },
      "source": [
        "## Simple Calculations\n",
        "\n",
        "Let's perform some basic arithmetic operations using a `torch.tensor` and a number:"
      ]
    },
    {
      "cell_type": "code",
      "metadata": {
        "id": "BQMs27Ky6huP"
      },
      "source": [
        "a = torch.tensor([1, 2, 3])\n",
        "print(\"a =\", a)\n",
        "\n",
        "print(\"a + 1 =\", a + 1)    # Addition\n",
        "print(\"a - 2 =\", a - 2)    # Subtraction\n",
        "print(\"a * 3 =\", a * 3)    # Multiplication\n",
        "print(\"a / 4 =\", a / 4)    # Division"
      ],
      "execution_count": null,
      "outputs": []
    },
    {
      "cell_type": "markdown",
      "metadata": {
        "id": "KR3Hze5ux40x"
      },
      "source": [
        "Now, let's perform operations with two `torch.tensor` objects:\n"
      ]
    },
    {
      "cell_type": "code",
      "metadata": {
        "id": "t3sRUzEN8M5b"
      },
      "source": [
        "a = torch.tensor([1, 2, 3])\n",
        "b = torch.tensor([0.4, 0.5, 0.6])\n",
        "\n",
        "print(\"a =\", a)\n",
        "print(\"b =\", b)\n",
        "\n",
        "print(\"a+b=\", a+b)\n",
        "print(\"a-b=\", a-b)\n",
        "print(\"a*b=\", a*b)\n",
        "print(\"a/b=\", a/b)"
      ],
      "execution_count": null,
      "outputs": []
    },
    {
      "cell_type": "markdown",
      "metadata": {
        "id": "SdgTI4FS9nSA"
      },
      "source": [
        "## PyTorch and Numpy\n",
        "\n",
        "PyTorch is based on NumPy, so they share many similarities. If you're already familiar with NumPy, you'll likely feel comfortable with PyTorch. Let's explore some examples:"
      ]
    },
    {
      "cell_type": "markdown",
      "metadata": {
        "id": "41so0Zm8_MLZ"
      },
      "source": [
        "**Zeros Array** - Create an array filled with zeros of a given shape:"
      ]
    },
    {
      "cell_type": "code",
      "metadata": {
        "id": "vyJZEQdDkSYp"
      },
      "source": [
        "np.zeros(3)    # 1D np.ndarray of 3 zeros"
      ],
      "execution_count": null,
      "outputs": []
    },
    {
      "cell_type": "code",
      "source": [
        "torch.zeros(3) # 1D torch.tensor of 3 zeros"
      ],
      "metadata": {
        "id": "xa3oGw5pSs5_"
      },
      "execution_count": null,
      "outputs": []
    },
    {
      "cell_type": "code",
      "source": [
        "torch.zeros((2, 3)) # 2D torch.tensor of 2x3 zeros"
      ],
      "metadata": {
        "id": "Bo4ZJsM6Ssx3"
      },
      "execution_count": null,
      "outputs": []
    },
    {
      "cell_type": "markdown",
      "metadata": {
        "id": "XViCDzHK_Phe"
      },
      "source": [
        "**Ones Array** - Create an array filled with ones of a given shape:"
      ]
    },
    {
      "cell_type": "code",
      "metadata": {
        "id": "g45dgf4Vk1-W"
      },
      "source": [
        "np.ones(5)"
      ],
      "execution_count": null,
      "outputs": []
    },
    {
      "cell_type": "code",
      "source": [
        "torch.ones(5)"
      ],
      "metadata": {
        "id": "e4gMue8uSveX"
      },
      "execution_count": null,
      "outputs": []
    },
    {
      "cell_type": "markdown",
      "metadata": {
        "id": "um9Kdk8V_qIy"
      },
      "source": [
        "**Random Number Array** - Create an array of random numbers between 0.0 and 1.0 with a given shape:"
      ]
    },
    {
      "cell_type": "code",
      "metadata": {
        "id": "XxuC3DwclKoE"
      },
      "source": [
        "np.random.rand(3)"
      ],
      "execution_count": null,
      "outputs": []
    },
    {
      "cell_type": "code",
      "metadata": {
        "id": "Epe4Tk_6-PFn"
      },
      "source": [
        "torch.rand(3)"
      ],
      "execution_count": null,
      "outputs": []
    },
    {
      "cell_type": "markdown",
      "metadata": {
        "id": "1xErEqhS_UK_"
      },
      "source": [
        "**Arange Array** - Create a 1D array with evenly spaced values:"
      ]
    },
    {
      "cell_type": "code",
      "metadata": {
        "id": "D8uf-3lgk6FK"
      },
      "source": [
        "np.arange(0, 5, 1)    # np.arange(start, stop, step) --- stop value is not included"
      ],
      "execution_count": null,
      "outputs": []
    },
    {
      "cell_type": "code",
      "metadata": {
        "id": "mJMTsPNn-o5_"
      },
      "source": [
        "torch.arange(0, 5, 1)"
      ],
      "execution_count": null,
      "outputs": []
    },
    {
      "cell_type": "code",
      "metadata": {
        "id": "35Gv_cjGHopY"
      },
      "source": [
        "torch.arange(5)     # Start and step parameters can be omitted"
      ],
      "execution_count": null,
      "outputs": []
    },
    {
      "cell_type": "markdown",
      "metadata": {
        "id": "1m-AEvuAABNN"
      },
      "source": [
        "**Slicing/Indexing** - Extract a subset of the original array by specifying indexes:"
      ]
    },
    {
      "cell_type": "code",
      "metadata": {
        "id": "dAR_SciliEd0"
      },
      "source": [
        "a = np.arange(10)\n",
        "print(a)\n",
        "print(a[2:5])    # Take data from index 2 to before index 5"
      ],
      "execution_count": null,
      "outputs": []
    },
    {
      "cell_type": "code",
      "metadata": {
        "id": "RVPtoMeslvhq"
      },
      "source": [
        "a = torch.arange(10)\n",
        "print(a)\n",
        "print(a[2:5])    # Take data from index 2 to before index 5"
      ],
      "execution_count": null,
      "outputs": []
    },
    {
      "cell_type": "code",
      "metadata": {
        "id": "-k2H6sqvJNIo"
      },
      "source": [
        "a = torch.arange(100).view(10,10)    # 10x10 torch.tensor\n",
        "print(a)\n",
        "print(a[1:3, 4:8])   # Take a subset of 2D data from 10x10 torch.tensor"
      ],
      "execution_count": null,
      "outputs": []
    },
    {
      "cell_type": "markdown",
      "metadata": {
        "id": "tPblm8JmEE1B"
      },
      "source": [
        "**Reshaping**\n",
        "\n",
        "To reshape a `numpy.ndarray`, use the `.reshape()` method:"
      ]
    },
    {
      "cell_type": "code",
      "metadata": {
        "id": "-UzSo7ajiJGN"
      },
      "source": [
        "a = np.arange(10) # 1D data\n",
        "a.reshape(2,5)    # Reshape data into 2x5 np.ndarray"
      ],
      "execution_count": null,
      "outputs": []
    },
    {
      "cell_type": "markdown",
      "metadata": {
        "id": "q1TGVrNszb7d"
      },
      "source": [
        "In PyTorch, you can use either `.reshape()` or `.view()` for reshaping:"
      ]
    },
    {
      "cell_type": "code",
      "source": [
        "a = torch.arange(10)\n",
        "a.reshape(2,5)  # Reshape data into 2x5 torch.tensor"
      ],
      "metadata": {
        "id": "0V00IKB4jYjh"
      },
      "execution_count": null,
      "outputs": []
    },
    {
      "cell_type": "code",
      "metadata": {
        "id": "rK5JSboHETjP"
      },
      "source": [
        "a = torch.arange(10)\n",
        "a.view(2,5)   # Reshape data into 2x5 torch.tensor"
      ],
      "execution_count": null,
      "outputs": []
    },
    {
      "cell_type": "markdown",
      "metadata": {
        "id": "BrqFpnM_DRDa"
      },
      "source": [
        "**Argmax** - Returns the index of the element with the maximum value in the given data:"
      ]
    },
    {
      "cell_type": "code",
      "metadata": {
        "id": "6CDgTCGzleaA"
      },
      "source": [
        "a = np.array([1, 2, 5, 3, 4])\n",
        "print(\"a =\", a)\n",
        "print(\"argmax(a) =\", np.argmax(a))    # Remember: index numbers start from 0 in Python"
      ],
      "execution_count": null,
      "outputs": []
    },
    {
      "cell_type": "code",
      "metadata": {
        "id": "dTSKNliMDSMA"
      },
      "source": [
        "a = torch.tensor([1, 2, 5, 3, 4])\n",
        "print(\"a =\", a)\n",
        "print(\"argmax(a) =\", torch.argmax(a))"
      ],
      "execution_count": null,
      "outputs": []
    },
    {
      "cell_type": "markdown",
      "metadata": {
        "id": "TACcs9ikbTav"
      },
      "source": [
        "**Practice**\n",
        "\n",
        "The code below draws a graph of $y = \\sin(x)$ using NumPy:"
      ]
    },
    {
      "cell_type": "code",
      "source": [
        "import matplotlib.pyplot as plt  # matplotlib is a data visualization package\n",
        "\n",
        "x = np.arange(0, 10, 0.01) # Create data for x\n",
        "y = np.sin(x)              # Calculate y = sin(x)\n",
        "\n",
        "plt.plot(x, y)"
      ],
      "metadata": {
        "id": "sE9VBiE7kmrO"
      },
      "execution_count": null,
      "outputs": []
    },
    {
      "cell_type": "code",
      "source": [],
      "metadata": {
        "id": "IObSeHlPhBuD"
      },
      "execution_count": null,
      "outputs": []
    },
    {
      "cell_type": "markdown",
      "source": [
        "Now, try to draw the same graph using PyTorch and Matplotlib, without using NumPy."
      ],
      "metadata": {
        "id": "t0ku-6OI7Jw_"
      }
    },
    {
      "cell_type": "code",
      "metadata": {
        "id": "DtmtbEPGevub"
      },
      "source": [
        "# WRITE YOUR CODE HERE\n"
      ],
      "execution_count": null,
      "outputs": []
    },
    {
      "cell_type": "markdown",
      "metadata": {
        "id": "cjMYEqSyEmVe"
      },
      "source": [
        "## AutoGrad\n",
        "One of PyTorch's most powerful features is its automatic differentiation engine, `torch.autograd`. PyTorch performs calculations using computation graphs, allowing us to access the gradients of outputs with respect to inputs. This capability is crucial for training neural networks.\n",
        "\n",
        "Let's examine a simple example: $y = 2x + 5$, where $x$ is the input and $y$ is the output.\n",
        "\n",
        "To enable the `torch.autograd` functionality, we need to set the parameters of the input `x` with `dtype=torch.float32` and `requires_grad=True`:"
      ]
    },
    {
      "cell_type": "code",
      "metadata": {
        "id": "3p0UxGo6jjYf"
      },
      "source": [
        "x = torch.tensor(3.0,\n",
        "                 dtype=torch.float32, # Set data type to float32\n",
        "                 requires_grad=True)  # Enable gradient calculations\n",
        "print(\"x =\", x)\n",
        "y = 2*x + 5\n",
        "print(\"y = 2x + 5 =\", y)"
      ],
      "execution_count": null,
      "outputs": []
    },
    {
      "cell_type": "markdown",
      "metadata": {
        "id": "4GPBCOJUNeX4"
      },
      "source": [
        "The gradient of `y` is calculated by calling `y.backward()`:"
      ]
    },
    {
      "cell_type": "code",
      "metadata": {
        "id": "6aV0uFOBMxv1"
      },
      "source": [
        "y.backward()"
      ],
      "execution_count": null,
      "outputs": []
    },
    {
      "cell_type": "markdown",
      "metadata": {
        "id": "dorxjIugOLJd"
      },
      "source": [
        "Now the gradient of `y` with respect to `x`, denoted as $dy/dx$, can be accessed via `x.grad`:\n"
      ]
    },
    {
      "cell_type": "code",
      "metadata": {
        "id": "OALTZ7JJNX4l"
      },
      "source": [
        "print(\"dy/dx =\", x.grad)"
      ],
      "execution_count": null,
      "outputs": []
    },
    {
      "cell_type": "markdown",
      "metadata": {
        "id": "ah3ijRIWkcRW"
      },
      "source": [
        "**Practice**\n",
        "\n",
        "\n",
        "1. Create a new `torch.tensor` $x = 5.0$\n",
        "2. Calculate $y = x^2 + 3x + 1$\n",
        "3. Determine the gradient $dy/dx$. The answer should be $13$. ($dy/dx = 2x + 3 = 2 * 5 + 3 = 13$)"
      ]
    },
    {
      "cell_type": "code",
      "metadata": {
        "id": "frllAWONlULP"
      },
      "source": [
        "# WRITE YOUR CODE HERE\n"
      ],
      "execution_count": null,
      "outputs": []
    },
    {
      "cell_type": "markdown",
      "metadata": {
        "id": "BioIAR-F3oDN"
      },
      "source": [
        "**Notes**\n",
        "\n",
        "In deep learning, gradient values are crucial for optimizing the parameters of neural network models using a method called stochastic gradient descent (SGD). As we've seen, PyTorch automatically calculates gradients for `torch.tensor` objects. This automatic differentiation capability is one of the main reasons why PyTorch is widely used for deep learning programming.\n",
        "\n",
        "If you're interested in understanding how SGD works for optimizing parameters, check out this example:\n",
        "\n",
        "https://github.com/naoya1110/ai_robotics_lab_2024_hands_on/blob/main/Week03_Simple_SGD_Example__with_PyTorch.ipynb\n"
      ]
    }
  ]
}